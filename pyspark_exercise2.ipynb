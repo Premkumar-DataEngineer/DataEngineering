{
  "nbformat": 4,
  "nbformat_minor": 0,
  "metadata": {
    "colab": {
      "provenance": [],
      "authorship_tag": "ABX9TyMBamoTn95D5Lw20h81DS5n",
      "include_colab_link": true
    },
    "kernelspec": {
      "name": "python3",
      "display_name": "Python 3"
    },
    "language_info": {
      "name": "python"
    }
  },
  "cells": [
    {
      "cell_type": "markdown",
      "metadata": {
        "id": "view-in-github",
        "colab_type": "text"
      },
      "source": [
        "<a href=\"https://colab.research.google.com/github/Premkumar-DataEngineer/DataEngineering/blob/main/pyspark_exercise2.ipynb\" target=\"_parent\"><img src=\"https://colab.research.google.com/assets/colab-badge.svg\" alt=\"Open In Colab\"/></a>"
      ]
    },
    {
      "cell_type": "code",
      "execution_count": null,
      "metadata": {
        "id": "yEBVysQ3LIjO"
      },
      "outputs": [],
      "source": []
    },
    {
      "cell_type": "code",
      "metadata": {
        "colab": {
          "base_uri": "https://localhost:8080/"
        },
        "id": "1d27142d",
        "outputId": "004ed150-a22a-46d9-e050-7f531587e16a"
      },
      "source": [
        "!apt-get update -qq > /dev/null\n",
        "!apt-get install openjdk-8-jdk-headless -qq > /dev/null"
      ],
      "execution_count": 35,
      "outputs": [
        {
          "output_type": "stream",
          "name": "stdout",
          "text": [
            "W: Skipping acquire of configured file 'main/source/Sources' as repository 'https://r2u.stat.illinois.edu/ubuntu jammy InRelease' does not seem to provide it (sources.list entry misspelt?)\n"
          ]
        }
      ]
    },
    {
      "cell_type": "code",
      "metadata": {
        "id": "233c91ae"
      },
      "source": [
        "import os\n",
        "os.environ[\"JAVA_HOME\"] = \"/usr/lib/jvm/java-8-openjdk-amd64\""
      ],
      "execution_count": 36,
      "outputs": []
    },
    {
      "cell_type": "code",
      "metadata": {
        "colab": {
          "base_uri": "https://localhost:8080/"
        },
        "id": "3d702840",
        "outputId": "78ca344e-539f-48cb-fedb-9074c4c4c75a"
      },
      "source": [
        "!pip install findspark"
      ],
      "execution_count": 37,
      "outputs": [
        {
          "output_type": "stream",
          "name": "stdout",
          "text": [
            "Requirement already satisfied: findspark in /usr/local/lib/python3.12/dist-packages (2.0.1)\n"
          ]
        }
      ]
    },
    {
      "cell_type": "code",
      "metadata": {
        "colab": {
          "base_uri": "https://localhost:8080/"
        },
        "id": "bf93306f",
        "outputId": "6be9a0a0-c76f-4f09-ba76-78f3b6757c3f"
      },
      "source": [
        "import findspark\n",
        "findspark.init()\n",
        "\n",
        "from pyspark.sql import SparkSession\n",
        "\n",
        "spark = SparkSession.builder.appName(\"SparkInitialization\").getOrCreate()\n",
        "print(\"Spark session initialized successfully!\")"
      ],
      "execution_count": 38,
      "outputs": [
        {
          "output_type": "stream",
          "name": "stdout",
          "text": [
            "Spark session initialized successfully!\n"
          ]
        }
      ]
    },
    {
      "cell_type": "code",
      "source": [
        "from pyspark import SparkContext"
      ],
      "metadata": {
        "id": "DNbF_psoMXbv"
      },
      "execution_count": 39,
      "outputs": []
    },
    {
      "cell_type": "code",
      "source": [
        "sc=spark.sparkContext"
      ],
      "metadata": {
        "id": "kpRDvdTVMgyg"
      },
      "execution_count": null,
      "outputs": []
    },
    {
      "cell_type": "code",
      "source": [
        "!ls"
      ],
      "metadata": {
        "colab": {
          "base_uri": "https://localhost:8080/"
        },
        "id": "aU53K20MMkaJ",
        "outputId": "da509128-9dd6-467b-e63d-8bb166daac3b"
      },
      "execution_count": 40,
      "outputs": [
        {
          "output_type": "stream",
          "name": "stdout",
          "text": [
            "retailstore.csv  sample_data\n"
          ]
        }
      ]
    },
    {
      "cell_type": "code",
      "source": [
        "!wget https://raw.githubusercontent.com/futurexskill/bigdata/refs/heads/master/retailstore.csv"
      ],
      "metadata": {
        "colab": {
          "base_uri": "https://localhost:8080/"
        },
        "id": "3W0Io05JMunA",
        "outputId": "dd7bf804-403d-46c3-8428-98376dc40978"
      },
      "execution_count": null,
      "outputs": [
        {
          "output_type": "stream",
          "name": "stdout",
          "text": [
            "--2025-08-24 11:28:21--  https://raw.githubusercontent.com/futurexskill/bigdata/refs/heads/master/retailstore.csv\n",
            "Resolving raw.githubusercontent.com (raw.githubusercontent.com)... 185.199.108.133, 185.199.109.133, 185.199.110.133, ...\n",
            "Connecting to raw.githubusercontent.com (raw.githubusercontent.com)|185.199.108.133|:443... connected.\n",
            "HTTP request sent, awaiting response... 200 OK\n",
            "Length: 279 [text/plain]\n",
            "Saving to: ‘retailstore.csv’\n",
            "\n",
            "retailstore.csv     100%[===================>]     279  --.-KB/s    in 0s      \n",
            "\n",
            "2025-08-24 11:28:21 (4.33 MB/s) - ‘retailstore.csv’ saved [279/279]\n",
            "\n"
          ]
        }
      ]
    },
    {
      "cell_type": "code",
      "source": [
        "!ls"
      ],
      "metadata": {
        "colab": {
          "base_uri": "https://localhost:8080/"
        },
        "id": "OHss99KdM03B",
        "outputId": "330cf085-9e2c-4d5c-889b-13b41b534076"
      },
      "execution_count": null,
      "outputs": [
        {
          "output_type": "stream",
          "name": "stdout",
          "text": [
            "retailstore.csv  sample_data\n"
          ]
        }
      ]
    },
    {
      "cell_type": "code",
      "source": [
        "retailRDD=sc.textFile(\"retailstore.csv\")"
      ],
      "metadata": {
        "id": "BIQs9BscM3Jh"
      },
      "execution_count": null,
      "outputs": []
    },
    {
      "cell_type": "code",
      "source": [
        "retailRDD.collect()"
      ],
      "metadata": {
        "colab": {
          "base_uri": "https://localhost:8080/"
        },
        "id": "fgOcObA-M9Qw",
        "outputId": "6f0f1afe-4746-4c5b-eaf9-864fdaccb212"
      },
      "execution_count": null,
      "outputs": [
        {
          "output_type": "execute_result",
          "data": {
            "text/plain": [
              "['Age,Salary,Gender,Country,Purchased',\n",
              " '18,20000,Male,Germany,N',\n",
              " '19,22000,Female,France,N',\n",
              " '20,24000,Female,England,N',\n",
              " '21,,Male,England,N',\n",
              " '22,50000,Male,France,Y',\n",
              " '23,35000,Female,England,N',\n",
              " '24,,Male,Germany,N',\n",
              " '25,32000,Female,France,Y',\n",
              " ',35000,Male,Germany,N',\n",
              " '27,37000,Female,France,N']"
            ]
          },
          "metadata": {},
          "execution_count": 11
        }
      ]
    },
    {
      "cell_type": "code",
      "source": [
        "trans_retailRDD=retailRDD.map(lambda x:x.replace(\"Male\",\"M\"))"
      ],
      "metadata": {
        "id": "ZfQbj0IaOOXt"
      },
      "execution_count": null,
      "outputs": []
    },
    {
      "cell_type": "code",
      "source": [
        "trans_retailRDD.collect()"
      ],
      "metadata": {
        "colab": {
          "base_uri": "https://localhost:8080/"
        },
        "id": "zTcphv0uOvLt",
        "outputId": "7796d2f8-2705-414f-96ce-855808f1c7da"
      },
      "execution_count": null,
      "outputs": [
        {
          "output_type": "execute_result",
          "data": {
            "text/plain": [
              "['Age,Salary,Gender,Country,Purchased',\n",
              " '18,20000,M,Germany,N',\n",
              " '19,22000,Female,France,N',\n",
              " '20,24000,Female,England,N',\n",
              " '21,,M,England,N',\n",
              " '22,50000,M,France,Y',\n",
              " '23,35000,Female,England,N',\n",
              " '24,,M,Germany,N',\n",
              " '25,32000,Female,France,Y',\n",
              " ',35000,M,Germany,N',\n",
              " '27,37000,Female,France,N']"
            ]
          },
          "metadata": {},
          "execution_count": 14
        }
      ]
    },
    {
      "cell_type": "code",
      "source": [
        "retailRDD.filter(lambda x:x.split(\",\")[2]==\"Male\").collect()"
      ],
      "metadata": {
        "colab": {
          "base_uri": "https://localhost:8080/"
        },
        "id": "MEYNORDKPGUX",
        "outputId": "70e8206f-076a-4d2e-9798-69f38fdb26ed"
      },
      "execution_count": null,
      "outputs": [
        {
          "output_type": "execute_result",
          "data": {
            "text/plain": [
              "['18,20000,Male,Germany,N',\n",
              " '21,,Male,England,N',\n",
              " '22,50000,Male,France,Y',\n",
              " '24,,Male,Germany,N',\n",
              " ',35000,Male,Germany,N']"
            ]
          },
          "metadata": {},
          "execution_count": 15
        }
      ]
    },
    {
      "cell_type": "code",
      "source": [
        "retailRDD.filter(lambda x: \"Female\" in x).collect()"
      ],
      "metadata": {
        "colab": {
          "base_uri": "https://localhost:8080/"
        },
        "id": "EwWCBXoEPcTH",
        "outputId": "2bd75fff-0ae4-40e4-d5c2-d8c16ef43ad4"
      },
      "execution_count": null,
      "outputs": [
        {
          "output_type": "execute_result",
          "data": {
            "text/plain": [
              "['19,22000,Female,France,N',\n",
              " '20,24000,Female,England,N',\n",
              " '23,35000,Female,England,N',\n",
              " '25,32000,Female,France,Y',\n",
              " '27,37000,Female,France,N']"
            ]
          },
          "metadata": {},
          "execution_count": 16
        }
      ]
    },
    {
      "cell_type": "code",
      "source": [
        "retailRDD.filter(lambda x:type(x)).collect()"
      ],
      "metadata": {
        "colab": {
          "base_uri": "https://localhost:8080/"
        },
        "id": "mcapMZ9APq4X",
        "outputId": "e75bbae5-d863-4afe-be12-77ee8b5bf9b3"
      },
      "execution_count": null,
      "outputs": [
        {
          "output_type": "execute_result",
          "data": {
            "text/plain": [
              "['Age,Salary,Gender,Country,Purchased',\n",
              " '18,20000,Male,Germany,N',\n",
              " '19,22000,Female,France,N',\n",
              " '20,24000,Female,England,N',\n",
              " '21,,Male,England,N',\n",
              " '22,50000,Male,France,Y',\n",
              " '23,35000,Female,England,N',\n",
              " '24,,Male,Germany,N',\n",
              " '25,32000,Female,France,Y',\n",
              " ',35000,Male,Germany,N',\n",
              " '27,37000,Female,France,N']"
            ]
          },
          "metadata": {},
          "execution_count": 16
        }
      ]
    },
    {
      "cell_type": "code",
      "source": [
        "type(retailRDD[1])"
      ],
      "metadata": {
        "colab": {
          "base_uri": "https://localhost:8080/",
          "height": 144
        },
        "id": "jP9c8qtDP24Y",
        "outputId": "3c45336b-f5dd-4cb8-a41a-38dbb50de5e5"
      },
      "execution_count": null,
      "outputs": [
        {
          "output_type": "error",
          "ename": "TypeError",
          "evalue": "'RDD' object is not subscriptable",
          "traceback": [
            "\u001b[0;31m---------------------------------------------------------------------------\u001b[0m",
            "\u001b[0;31mTypeError\u001b[0m                                 Traceback (most recent call last)",
            "\u001b[0;32m/tmp/ipython-input-3455468145.py\u001b[0m in \u001b[0;36m<cell line: 0>\u001b[0;34m()\u001b[0m\n\u001b[0;32m----> 1\u001b[0;31m \u001b[0mtype\u001b[0m\u001b[0;34m(\u001b[0m\u001b[0mretailRDD\u001b[0m\u001b[0;34m[\u001b[0m\u001b[0;36m1\u001b[0m\u001b[0;34m]\u001b[0m\u001b[0;34m)\u001b[0m\u001b[0;34m\u001b[0m\u001b[0;34m\u001b[0m\u001b[0m\n\u001b[0m",
            "\u001b[0;31mTypeError\u001b[0m: 'RDD' object is not subscriptable"
          ]
        }
      ]
    },
    {
      "cell_type": "code",
      "metadata": {
        "colab": {
          "base_uri": "https://localhost:8080/"
        },
        "id": "f25e4b29",
        "outputId": "d7296ae7-d460-443b-e6f0-9c1ff9f85683"
      },
      "source": [
        "# Collect the RDD to a list on the driver node\n",
        "retail_list = retailRDD.collect()\n",
        "\n",
        "# Now you can access elements from the list\n",
        "if len(retail_list) > 1:\n",
        "  print(type(retail_list[1]))\n",
        "else:\n",
        "  print(\"RDD does not have enough elements to access the second element.\")"
      ],
      "execution_count": null,
      "outputs": [
        {
          "output_type": "stream",
          "name": "stdout",
          "text": [
            "<class 'str'>\n"
          ]
        }
      ]
    },
    {
      "cell_type": "code",
      "source": [
        "retailRDD.count()"
      ],
      "metadata": {
        "colab": {
          "base_uri": "https://localhost:8080/"
        },
        "id": "hjLTsDUf1Cq5",
        "outputId": "9a377f5b-7cf1-4ef1-98d6-a1ef38ec7461"
      },
      "execution_count": null,
      "outputs": [
        {
          "output_type": "execute_result",
          "data": {
            "text/plain": [
              "11"
            ]
          },
          "metadata": {},
          "execution_count": 19
        }
      ]
    },
    {
      "cell_type": "code",
      "source": [
        "words=retailRDD.flatMap(lambda x:x.split(\",\")).collect()"
      ],
      "metadata": {
        "id": "C6OUWXWq1s8S"
      },
      "execution_count": null,
      "outputs": []
    },
    {
      "cell_type": "code",
      "source": [
        "words.collect()"
      ],
      "metadata": {
        "colab": {
          "base_uri": "https://localhost:8080/",
          "height": 144
        },
        "id": "SXbZm7XS15p_",
        "outputId": "80d884bf-7d9d-497e-f788-767e3d450c9a"
      },
      "execution_count": null,
      "outputs": [
        {
          "output_type": "error",
          "ename": "AttributeError",
          "evalue": "'list' object has no attribute 'collect'",
          "traceback": [
            "\u001b[0;31m---------------------------------------------------------------------------\u001b[0m",
            "\u001b[0;31mAttributeError\u001b[0m                            Traceback (most recent call last)",
            "\u001b[0;32m/tmp/ipython-input-1125055863.py\u001b[0m in \u001b[0;36m<cell line: 0>\u001b[0;34m()\u001b[0m\n\u001b[0;32m----> 1\u001b[0;31m \u001b[0mwords\u001b[0m\u001b[0;34m.\u001b[0m\u001b[0mcollect\u001b[0m\u001b[0;34m(\u001b[0m\u001b[0;34m)\u001b[0m\u001b[0;34m\u001b[0m\u001b[0;34m\u001b[0m\u001b[0m\n\u001b[0m",
            "\u001b[0;31mAttributeError\u001b[0m: 'list' object has no attribute 'collect'"
          ]
        }
      ]
    },
    {
      "cell_type": "code",
      "source": [
        "words=retailRDD.flatMap(lambda x:x.split(\",\"))"
      ],
      "metadata": {
        "id": "vZQyGdE51_av"
      },
      "execution_count": null,
      "outputs": []
    },
    {
      "cell_type": "code",
      "source": [
        "words.count()"
      ],
      "metadata": {
        "colab": {
          "base_uri": "https://localhost:8080/"
        },
        "id": "bH_JUIK12DCe",
        "outputId": "fea024af-beb4-40a4-e59e-fb748babd2f3"
      },
      "execution_count": null,
      "outputs": [
        {
          "output_type": "execute_result",
          "data": {
            "text/plain": [
              "55"
            ]
          },
          "metadata": {},
          "execution_count": 23
        }
      ]
    },
    {
      "cell_type": "code",
      "source": [
        "words.collect()"
      ],
      "metadata": {
        "colab": {
          "base_uri": "https://localhost:8080/"
        },
        "id": "GT8y6-2d2Gkv",
        "outputId": "c9b9b602-e677-478b-9d46-fea0024bd922"
      },
      "execution_count": null,
      "outputs": [
        {
          "output_type": "execute_result",
          "data": {
            "text/plain": [
              "['Age',\n",
              " 'Salary',\n",
              " 'Gender',\n",
              " 'Country',\n",
              " 'Purchased',\n",
              " '18',\n",
              " '20000',\n",
              " 'Male',\n",
              " 'Germany',\n",
              " 'N',\n",
              " '19',\n",
              " '22000',\n",
              " 'Female',\n",
              " 'France',\n",
              " 'N',\n",
              " '20',\n",
              " '24000',\n",
              " 'Female',\n",
              " 'England',\n",
              " 'N',\n",
              " '21',\n",
              " '',\n",
              " 'Male',\n",
              " 'England',\n",
              " 'N',\n",
              " '22',\n",
              " '50000',\n",
              " 'Male',\n",
              " 'France',\n",
              " 'Y',\n",
              " '23',\n",
              " '35000',\n",
              " 'Female',\n",
              " 'England',\n",
              " 'N',\n",
              " '24',\n",
              " '',\n",
              " 'Male',\n",
              " 'Germany',\n",
              " 'N',\n",
              " '25',\n",
              " '32000',\n",
              " 'Female',\n",
              " 'France',\n",
              " 'Y',\n",
              " '',\n",
              " '35000',\n",
              " 'Male',\n",
              " 'Germany',\n",
              " 'N',\n",
              " '27',\n",
              " '37000',\n",
              " 'Female',\n",
              " 'France',\n",
              " 'N']"
            ]
          },
          "metadata": {},
          "execution_count": 24
        }
      ]
    },
    {
      "cell_type": "code",
      "source": [
        "words.distinct().collect()"
      ],
      "metadata": {
        "colab": {
          "base_uri": "https://localhost:8080/"
        },
        "id": "nYtjNymO2L_h",
        "outputId": "60140862-3cc2-425f-db9b-145aaebdf513"
      },
      "execution_count": null,
      "outputs": [
        {
          "output_type": "execute_result",
          "data": {
            "text/plain": [
              "['Salary',\n",
              " 'Gender',\n",
              " 'Country',\n",
              " '18',\n",
              " '20000',\n",
              " 'Male',\n",
              " 'Germany',\n",
              " '22000',\n",
              " 'Female',\n",
              " 'France',\n",
              " '21',\n",
              " '',\n",
              " '22',\n",
              " '50000',\n",
              " '24',\n",
              " '32000',\n",
              " 'Age',\n",
              " 'Purchased',\n",
              " 'N',\n",
              " '19',\n",
              " '20',\n",
              " '24000',\n",
              " 'England',\n",
              " 'Y',\n",
              " '23',\n",
              " '35000',\n",
              " '25',\n",
              " '27',\n",
              " '37000']"
            ]
          },
          "metadata": {},
          "execution_count": 27
        }
      ]
    },
    {
      "cell_type": "code",
      "source": [
        "retailRDD.collect()"
      ],
      "metadata": {
        "colab": {
          "base_uri": "https://localhost:8080/"
        },
        "id": "O0qKb-bJ6OIW",
        "outputId": "0d2f9d65-27a1-41d9-8054-44740118150c"
      },
      "execution_count": null,
      "outputs": [
        {
          "output_type": "execute_result",
          "data": {
            "text/plain": [
              "['Age,Salary,Gender,Country,Purchased',\n",
              " '18,20000,Male,Germany,N',\n",
              " '19,22000,Female,France,N',\n",
              " '20,24000,Female,England,N',\n",
              " '21,,Male,England,N',\n",
              " '22,50000,Male,France,Y',\n",
              " '23,35000,Female,England,N',\n",
              " '24,,Male,Germany,N',\n",
              " '25,32000,Female,France,Y',\n",
              " ',35000,Male,Germany,N',\n",
              " '27,37000,Female,France,N']"
            ]
          },
          "metadata": {},
          "execution_count": 29
        }
      ]
    },
    {
      "cell_type": "code",
      "source": [
        "retailRDD.map(lambda x:x.split(\",\")).collect()"
      ],
      "metadata": {
        "colab": {
          "base_uri": "https://localhost:8080/"
        },
        "id": "dxPz9dIx9AZ0",
        "outputId": "3f277301-d534-48ef-925b-563ab2fab085"
      },
      "execution_count": null,
      "outputs": [
        {
          "output_type": "execute_result",
          "data": {
            "text/plain": [
              "[['Age', 'Salary', 'Gender', 'Country', 'Purchased'],\n",
              " ['18', '20000', 'Male', 'Germany', 'N'],\n",
              " ['19', '22000', 'Female', 'France', 'N'],\n",
              " ['20', '24000', 'Female', 'England', 'N'],\n",
              " ['21', '', 'Male', 'England', 'N'],\n",
              " ['22', '50000', 'Male', 'France', 'Y'],\n",
              " ['23', '35000', 'Female', 'England', 'N'],\n",
              " ['24', '', 'Male', 'Germany', 'N'],\n",
              " ['25', '32000', 'Female', 'France', 'Y'],\n",
              " ['', '35000', 'Male', 'Germany', 'N'],\n",
              " ['27', '37000', 'Female', 'France', 'N']]"
            ]
          },
          "metadata": {},
          "execution_count": 30
        }
      ]
    },
    {
      "cell_type": "code",
      "source": [
        "wordlist=retailRDD.map(lambda x:x.split(\",\")).collect()\n",
        "if len(wordlist)>0:\n",
        "  print(type(wordlist[0]))\n",
        "else:\n",
        "  print(\"RDD does not have enough elements to access the second element.\")"
      ],
      "metadata": {
        "colab": {
          "base_uri": "https://localhost:8080/"
        },
        "id": "OBUaVZRJ9bub",
        "outputId": "1498a20b-2c8b-4ba3-a433-dcc2b42deb61"
      },
      "execution_count": null,
      "outputs": [
        {
          "output_type": "stream",
          "name": "stdout",
          "text": [
            "<class 'list'>\n"
          ]
        }
      ]
    },
    {
      "cell_type": "code",
      "source": [
        "wordflat=retailRDD.flatMap(lambda x:x.split(\",\")).collect()\n",
        "if len(wordflat)>0:\n",
        "  print(type(wordflat[0]))\n",
        "else:\n",
        "  print(\"RDD does not have enough elements to access the second element.\")"
      ],
      "metadata": {
        "colab": {
          "base_uri": "https://localhost:8080/"
        },
        "id": "ccm4V4hy930L",
        "outputId": "c9937ca0-834b-41ce-8a00-2a4c561b204f"
      },
      "execution_count": null,
      "outputs": [
        {
          "output_type": "stream",
          "name": "stdout",
          "text": [
            "<class 'str'>\n"
          ]
        }
      ]
    },
    {
      "cell_type": "code",
      "source": [
        "retail_df=spark.read.csv(\"retailstore.csv\",header=True,inferSchema=True)"
      ],
      "metadata": {
        "id": "XBCybk_8gMED"
      },
      "execution_count": 41,
      "outputs": []
    },
    {
      "cell_type": "code",
      "source": [
        "retail_df.describe().show()"
      ],
      "metadata": {
        "colab": {
          "base_uri": "https://localhost:8080/"
        },
        "id": "L3tk6_8ogVgK",
        "outputId": "be8d1fb0-eeb5-429a-b907-36dd38199eff"
      },
      "execution_count": 42,
      "outputs": [
        {
          "output_type": "stream",
          "name": "stdout",
          "text": [
            "+-------+-----------------+-----------------+------+-------+---------+\n",
            "|summary|              Age|           Salary|Gender|Country|Purchased|\n",
            "+-------+-----------------+-----------------+------+-------+---------+\n",
            "|  count|                9|                8|    10|     10|       10|\n",
            "|   mean|22.11111111111111|          31875.0|  NULL|   NULL|     NULL|\n",
            "| stddev|2.934469476943168|9818.895777311942|  NULL|   NULL|     NULL|\n",
            "|    min|               18|            20000|Female|England|        N|\n",
            "|    max|               27|            50000|  Male|Germany|        Y|\n",
            "+-------+-----------------+-----------------+------+-------+---------+\n",
            "\n"
          ]
        }
      ]
    },
    {
      "cell_type": "code",
      "source": [
        "retail_df.show()"
      ],
      "metadata": {
        "colab": {
          "base_uri": "https://localhost:8080/"
        },
        "id": "n8T8rESsgc0r",
        "outputId": "dd8b418b-2706-40cf-d0bf-9ece63eafebd"
      },
      "execution_count": 43,
      "outputs": [
        {
          "output_type": "stream",
          "name": "stdout",
          "text": [
            "+----+------+------+-------+---------+\n",
            "| Age|Salary|Gender|Country|Purchased|\n",
            "+----+------+------+-------+---------+\n",
            "|  18| 20000|  Male|Germany|        N|\n",
            "|  19| 22000|Female| France|        N|\n",
            "|  20| 24000|Female|England|        N|\n",
            "|  21|  NULL|  Male|England|        N|\n",
            "|  22| 50000|  Male| France|        Y|\n",
            "|  23| 35000|Female|England|        N|\n",
            "|  24|  NULL|  Male|Germany|        N|\n",
            "|  25| 32000|Female| France|        Y|\n",
            "|NULL| 35000|  Male|Germany|        N|\n",
            "|  27| 37000|Female| France|        N|\n",
            "+----+------+------+-------+---------+\n",
            "\n"
          ]
        }
      ]
    },
    {
      "cell_type": "code",
      "source": [
        "retail_df.select(\"Country\").show()"
      ],
      "metadata": {
        "colab": {
          "base_uri": "https://localhost:8080/"
        },
        "id": "Ico5Ue1Tgp9k",
        "outputId": "b4a2d343-3cb8-4821-bc51-49525563ef69"
      },
      "execution_count": 44,
      "outputs": [
        {
          "output_type": "stream",
          "name": "stdout",
          "text": [
            "+-------+\n",
            "|Country|\n",
            "+-------+\n",
            "|Germany|\n",
            "| France|\n",
            "|England|\n",
            "|England|\n",
            "| France|\n",
            "|England|\n",
            "|Germany|\n",
            "| France|\n",
            "|Germany|\n",
            "| France|\n",
            "+-------+\n",
            "\n"
          ]
        }
      ]
    },
    {
      "cell_type": "code",
      "source": [
        "retail_df.select(\"Country\").distinct().show()"
      ],
      "metadata": {
        "colab": {
          "base_uri": "https://localhost:8080/"
        },
        "id": "GhVFLG3Nghpb",
        "outputId": "a72b4231-2675-4ece-8322-30afc7e84892"
      },
      "execution_count": 45,
      "outputs": [
        {
          "output_type": "stream",
          "name": "stdout",
          "text": [
            "+-------+\n",
            "|Country|\n",
            "+-------+\n",
            "|Germany|\n",
            "| France|\n",
            "|England|\n",
            "+-------+\n",
            "\n"
          ]
        }
      ]
    },
    {
      "cell_type": "code",
      "source": [
        "retail_df.groupBy(\"Country\").count().show()"
      ],
      "metadata": {
        "colab": {
          "base_uri": "https://localhost:8080/"
        },
        "id": "80VM12j9g__h",
        "outputId": "337ae9e5-cea3-4159-f7fc-b6ae9c7b2adb"
      },
      "execution_count": 46,
      "outputs": [
        {
          "output_type": "stream",
          "name": "stdout",
          "text": [
            "+-------+-----+\n",
            "|Country|count|\n",
            "+-------+-----+\n",
            "|Germany|    3|\n",
            "| France|    4|\n",
            "|England|    3|\n",
            "+-------+-----+\n",
            "\n"
          ]
        }
      ]
    },
    {
      "cell_type": "code",
      "source": [
        "retail_df.createOrReplaceGlobalTempView(\"retail_global\")"
      ],
      "metadata": {
        "id": "HlwPNI_3hQeD"
      },
      "execution_count": 47,
      "outputs": []
    },
    {
      "cell_type": "code",
      "source": [
        "retail_result=spark.sql(\"select * from global_temp.retail_global\")"
      ],
      "metadata": {
        "id": "XiFx1LbehnGx"
      },
      "execution_count": 48,
      "outputs": []
    },
    {
      "cell_type": "code",
      "source": [
        "retail_result.show()"
      ],
      "metadata": {
        "colab": {
          "base_uri": "https://localhost:8080/"
        },
        "id": "o5O1cLjNiEQO",
        "outputId": "6e21b97d-664c-4aaa-8a39-439a59b682b7"
      },
      "execution_count": 49,
      "outputs": [
        {
          "output_type": "stream",
          "name": "stdout",
          "text": [
            "+----+------+------+-------+---------+\n",
            "| Age|Salary|Gender|Country|Purchased|\n",
            "+----+------+------+-------+---------+\n",
            "|  18| 20000|  Male|Germany|        N|\n",
            "|  19| 22000|Female| France|        N|\n",
            "|  20| 24000|Female|England|        N|\n",
            "|  21|  NULL|  Male|England|        N|\n",
            "|  22| 50000|  Male| France|        Y|\n",
            "|  23| 35000|Female|England|        N|\n",
            "|  24|  NULL|  Male|Germany|        N|\n",
            "|  25| 32000|Female| France|        Y|\n",
            "|NULL| 35000|  Male|Germany|        N|\n",
            "|  27| 37000|Female| France|        N|\n",
            "+----+------+------+-------+---------+\n",
            "\n"
          ]
        }
      ]
    },
    {
      "cell_type": "code",
      "source": [
        "type(retail_result)"
      ],
      "metadata": {
        "colab": {
          "base_uri": "https://localhost:8080/",
          "height": 187
        },
        "id": "GxPkihvFiHcG",
        "outputId": "d85b4d1e-3cf6-41bb-a7c0-a105bd00a166"
      },
      "execution_count": 50,
      "outputs": [
        {
          "output_type": "execute_result",
          "data": {
            "text/plain": [
              "pyspark.sql.dataframe.DataFrame"
            ],
            "text/html": [
              "<div style=\"max-width:800px; border: 1px solid var(--colab-border-color);\"><style>\n",
              "      pre.function-repr-contents {\n",
              "        overflow-x: auto;\n",
              "        padding: 8px 12px;\n",
              "        max-height: 500px;\n",
              "      }\n",
              "\n",
              "      pre.function-repr-contents.function-repr-contents-collapsed {\n",
              "        cursor: pointer;\n",
              "        max-height: 100px;\n",
              "      }\n",
              "    </style>\n",
              "    <pre style=\"white-space: initial; background:\n",
              "         var(--colab-secondary-surface-color); padding: 8px 12px;\n",
              "         border-bottom: 1px solid var(--colab-border-color);\"><b>pyspark.sql.dataframe.DataFrame</b><br/>def __init__(jdf: JavaObject, sql_ctx: Union[&#x27;SQLContext&#x27;, &#x27;SparkSession&#x27;])</pre><pre class=\"function-repr-contents function-repr-contents-collapsed\" style=\"\"><a class=\"filepath\" style=\"display:none\" href=\"#\">/usr/local/lib/python3.12/dist-packages/pyspark/sql/dataframe.py</a>A distributed collection of data grouped into named columns.\n",
              "\n",
              ".. versionadded:: 1.3.0\n",
              "\n",
              ".. versionchanged:: 3.4.0\n",
              "    Supports Spark Connect.\n",
              "\n",
              "Examples\n",
              "--------\n",
              "A :class:`DataFrame` is equivalent to a relational table in Spark SQL,\n",
              "and can be created using various functions in :class:`SparkSession`:\n",
              "\n",
              "&gt;&gt;&gt; people = spark.createDataFrame([\n",
              "...     {&quot;deptId&quot;: 1, &quot;age&quot;: 40, &quot;name&quot;: &quot;Hyukjin Kwon&quot;, &quot;gender&quot;: &quot;M&quot;, &quot;salary&quot;: 50},\n",
              "...     {&quot;deptId&quot;: 1, &quot;age&quot;: 50, &quot;name&quot;: &quot;Takuya Ueshin&quot;, &quot;gender&quot;: &quot;M&quot;, &quot;salary&quot;: 100},\n",
              "...     {&quot;deptId&quot;: 2, &quot;age&quot;: 60, &quot;name&quot;: &quot;Xinrong Meng&quot;, &quot;gender&quot;: &quot;F&quot;, &quot;salary&quot;: 150},\n",
              "...     {&quot;deptId&quot;: 3, &quot;age&quot;: 20, &quot;name&quot;: &quot;Haejoon Lee&quot;, &quot;gender&quot;: &quot;M&quot;, &quot;salary&quot;: 200}\n",
              "... ])\n",
              "\n",
              "Once created, it can be manipulated using the various domain-specific-language\n",
              "(DSL) functions defined in: :class:`DataFrame`, :class:`Column`.\n",
              "\n",
              "To select a column from the :class:`DataFrame`, use the apply method:\n",
              "\n",
              "&gt;&gt;&gt; age_col = people.age\n",
              "\n",
              "A more concrete example:\n",
              "\n",
              "&gt;&gt;&gt; # To create DataFrame using SparkSession\n",
              "... department = spark.createDataFrame([\n",
              "...     {&quot;id&quot;: 1, &quot;name&quot;: &quot;PySpark&quot;},\n",
              "...     {&quot;id&quot;: 2, &quot;name&quot;: &quot;ML&quot;},\n",
              "...     {&quot;id&quot;: 3, &quot;name&quot;: &quot;Spark SQL&quot;}\n",
              "... ])\n",
              "\n",
              "&gt;&gt;&gt; people.filter(people.age &gt; 30).join(\n",
              "...     department, people.deptId == department.id).groupBy(\n",
              "...     department.name, &quot;gender&quot;).agg({&quot;salary&quot;: &quot;avg&quot;, &quot;age&quot;: &quot;max&quot;}).show()\n",
              "+-------+------+-----------+--------+\n",
              "|   name|gender|avg(salary)|max(age)|\n",
              "+-------+------+-----------+--------+\n",
              "|     ML|     F|      150.0|      60|\n",
              "|PySpark|     M|       75.0|      50|\n",
              "+-------+------+-----------+--------+\n",
              "\n",
              "Notes\n",
              "-----\n",
              "A DataFrame should only be created as described above. It should not be directly\n",
              "created via using the constructor.</pre>\n",
              "      <script>\n",
              "      if (google.colab.kernel.accessAllowed && google.colab.files && google.colab.files.view) {\n",
              "        for (const element of document.querySelectorAll('.filepath')) {\n",
              "          element.style.display = 'block'\n",
              "          element.onclick = (event) => {\n",
              "            event.preventDefault();\n",
              "            event.stopPropagation();\n",
              "            google.colab.files.view(element.textContent, 80);\n",
              "          };\n",
              "        }\n",
              "      }\n",
              "      for (const element of document.querySelectorAll('.function-repr-contents')) {\n",
              "        element.onclick = (event) => {\n",
              "          event.preventDefault();\n",
              "          event.stopPropagation();\n",
              "          element.classList.toggle('function-repr-contents-collapsed');\n",
              "        };\n",
              "      }\n",
              "      </script>\n",
              "      </div>"
            ]
          },
          "metadata": {},
          "execution_count": 50
        }
      ]
    },
    {
      "cell_type": "code",
      "source": [
        "retail_df.filter(\"age>20\").show()"
      ],
      "metadata": {
        "colab": {
          "base_uri": "https://localhost:8080/"
        },
        "id": "cf49zvkBilrg",
        "outputId": "1e084888-f59a-4317-fba1-aa2e5f2b4d96"
      },
      "execution_count": 53,
      "outputs": [
        {
          "output_type": "stream",
          "name": "stdout",
          "text": [
            "+---+------+------+-------+---------+\n",
            "|Age|Salary|Gender|Country|Purchased|\n",
            "+---+------+------+-------+---------+\n",
            "| 21|  NULL|  Male|England|        N|\n",
            "| 22| 50000|  Male| France|        Y|\n",
            "| 23| 35000|Female|England|        N|\n",
            "| 24|  NULL|  Male|Germany|        N|\n",
            "| 25| 32000|Female| France|        Y|\n",
            "| 27| 37000|Female| France|        N|\n",
            "+---+------+------+-------+---------+\n",
            "\n"
          ]
        }
      ]
    },
    {
      "cell_type": "code",
      "source": [
        "retail_df.filter(\"Gender='Male'\").show()"
      ],
      "metadata": {
        "colab": {
          "base_uri": "https://localhost:8080/"
        },
        "id": "Whlt0Yz6jEDB",
        "outputId": "90e4346b-9c5e-4e94-95e2-19f64a1f379a"
      },
      "execution_count": 54,
      "outputs": [
        {
          "output_type": "stream",
          "name": "stdout",
          "text": [
            "+----+------+------+-------+---------+\n",
            "| Age|Salary|Gender|Country|Purchased|\n",
            "+----+------+------+-------+---------+\n",
            "|  18| 20000|  Male|Germany|        N|\n",
            "|  21|  NULL|  Male|England|        N|\n",
            "|  22| 50000|  Male| France|        Y|\n",
            "|  24|  NULL|  Male|Germany|        N|\n",
            "|NULL| 35000|  Male|Germany|        N|\n",
            "+----+------+------+-------+---------+\n",
            "\n"
          ]
        }
      ]
    },
    {
      "cell_type": "code",
      "source": [
        "retail_df.filter(\"Gender='Male' and age>20\").show()"
      ],
      "metadata": {
        "colab": {
          "base_uri": "https://localhost:8080/"
        },
        "id": "iBoDg-1llW-V",
        "outputId": "d616579a-ee79-46a5-af6c-c8e603fc6dea"
      },
      "execution_count": 55,
      "outputs": [
        {
          "output_type": "stream",
          "name": "stdout",
          "text": [
            "+---+------+------+-------+---------+\n",
            "|Age|Salary|Gender|Country|Purchased|\n",
            "+---+------+------+-------+---------+\n",
            "| 21|  NULL|  Male|England|        N|\n",
            "| 22| 50000|  Male| France|        Y|\n",
            "| 24|  NULL|  Male|Germany|        N|\n",
            "+---+------+------+-------+---------+\n",
            "\n"
          ]
        }
      ]
    },
    {
      "cell_type": "code",
      "source": [
        "retail_df.orderBy(\"age\").show()"
      ],
      "metadata": {
        "colab": {
          "base_uri": "https://localhost:8080/"
        },
        "id": "SKYb7RdCnfqb",
        "outputId": "e80ceeef-b504-47b0-c2d4-33fa2a2a6527"
      },
      "execution_count": 57,
      "outputs": [
        {
          "output_type": "stream",
          "name": "stdout",
          "text": [
            "+----+------+------+-------+---------+\n",
            "| Age|Salary|Gender|Country|Purchased|\n",
            "+----+------+------+-------+---------+\n",
            "|NULL| 35000|  Male|Germany|        N|\n",
            "|  18| 20000|  Male|Germany|        N|\n",
            "|  19| 22000|Female| France|        N|\n",
            "|  20| 24000|Female|England|        N|\n",
            "|  21|  NULL|  Male|England|        N|\n",
            "|  22| 50000|  Male| France|        Y|\n",
            "|  23| 35000|Female|England|        N|\n",
            "|  24|  NULL|  Male|Germany|        N|\n",
            "|  25| 32000|Female| France|        Y|\n",
            "|  27| 37000|Female| France|        N|\n",
            "+----+------+------+-------+---------+\n",
            "\n"
          ]
        }
      ]
    },
    {
      "cell_type": "code",
      "source": [
        "retail_df.orderBy(\"age\",ascending=True).show()"
      ],
      "metadata": {
        "colab": {
          "base_uri": "https://localhost:8080/"
        },
        "id": "xRepeCBmnq4j",
        "outputId": "37a84598-a6e5-4a50-e61f-3a8a1b93cc43"
      },
      "execution_count": 59,
      "outputs": [
        {
          "output_type": "stream",
          "name": "stdout",
          "text": [
            "+----+------+------+-------+---------+\n",
            "| Age|Salary|Gender|Country|Purchased|\n",
            "+----+------+------+-------+---------+\n",
            "|NULL| 35000|  Male|Germany|        N|\n",
            "|  18| 20000|  Male|Germany|        N|\n",
            "|  19| 22000|Female| France|        N|\n",
            "|  20| 24000|Female|England|        N|\n",
            "|  21|  NULL|  Male|England|        N|\n",
            "|  22| 50000|  Male| France|        Y|\n",
            "|  23| 35000|Female|England|        N|\n",
            "|  24|  NULL|  Male|Germany|        N|\n",
            "|  25| 32000|Female| France|        Y|\n",
            "|  27| 37000|Female| France|        N|\n",
            "+----+------+------+-------+---------+\n",
            "\n"
          ]
        }
      ]
    }
  ]
}